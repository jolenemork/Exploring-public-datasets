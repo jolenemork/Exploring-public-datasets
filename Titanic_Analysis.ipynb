{
 "cells": [
  {
   "cell_type": "markdown",
   "metadata": {},
   "source": [
    "# Survival Statistics from the Titanic"
   ]
  },
  {
   "cell_type": "code",
   "execution_count": 1,
   "metadata": {
    "collapsed": true
   },
   "outputs": [],
   "source": [
    "import pandas as pd\n",
    "import numpy as np\n",
    "import math\n",
    "%matplotlib inline\n",
    "import matplotlib.pyplot as plt"
   ]
  },
  {
   "cell_type": "code",
   "execution_count": 2,
   "metadata": {
    "collapsed": false
   },
   "outputs": [
    {
     "data": {
      "text/html": [
       "<div>\n",
       "<table border=\"1\" class=\"dataframe\">\n",
       "  <thead>\n",
       "    <tr style=\"text-align: right;\">\n",
       "      <th></th>\n",
       "      <th>pclass</th>\n",
       "      <th>survived</th>\n",
       "      <th>name</th>\n",
       "      <th>sex</th>\n",
       "      <th>age</th>\n",
       "      <th>sibsp</th>\n",
       "      <th>parch</th>\n",
       "      <th>ticket</th>\n",
       "      <th>fare</th>\n",
       "      <th>cabin</th>\n",
       "      <th>embarked</th>\n",
       "      <th>boat</th>\n",
       "      <th>body</th>\n",
       "      <th>home.dest</th>\n",
       "    </tr>\n",
       "  </thead>\n",
       "  <tbody>\n",
       "    <tr>\n",
       "      <th>0</th>\n",
       "      <td>1</td>\n",
       "      <td>1</td>\n",
       "      <td>Allen, Miss. Elisabeth Walton</td>\n",
       "      <td>female</td>\n",
       "      <td>29.00</td>\n",
       "      <td>0</td>\n",
       "      <td>0</td>\n",
       "      <td>24160</td>\n",
       "      <td>211.3375</td>\n",
       "      <td>B5</td>\n",
       "      <td>S</td>\n",
       "      <td>2</td>\n",
       "      <td>NaN</td>\n",
       "      <td>St Louis, MO</td>\n",
       "    </tr>\n",
       "    <tr>\n",
       "      <th>1</th>\n",
       "      <td>1</td>\n",
       "      <td>1</td>\n",
       "      <td>Allison, Master. Hudson Trevor</td>\n",
       "      <td>male</td>\n",
       "      <td>0.92</td>\n",
       "      <td>1</td>\n",
       "      <td>2</td>\n",
       "      <td>113781</td>\n",
       "      <td>151.5500</td>\n",
       "      <td>C22 C26</td>\n",
       "      <td>S</td>\n",
       "      <td>11</td>\n",
       "      <td>NaN</td>\n",
       "      <td>Montreal, PQ / Chesterville, ON</td>\n",
       "    </tr>\n",
       "    <tr>\n",
       "      <th>2</th>\n",
       "      <td>1</td>\n",
       "      <td>0</td>\n",
       "      <td>Allison, Miss. Helen Loraine</td>\n",
       "      <td>female</td>\n",
       "      <td>2.00</td>\n",
       "      <td>1</td>\n",
       "      <td>2</td>\n",
       "      <td>113781</td>\n",
       "      <td>151.5500</td>\n",
       "      <td>C22 C26</td>\n",
       "      <td>S</td>\n",
       "      <td>NaN</td>\n",
       "      <td>NaN</td>\n",
       "      <td>Montreal, PQ / Chesterville, ON</td>\n",
       "    </tr>\n",
       "    <tr>\n",
       "      <th>3</th>\n",
       "      <td>1</td>\n",
       "      <td>0</td>\n",
       "      <td>Allison, Mr. Hudson Joshua Creighton</td>\n",
       "      <td>male</td>\n",
       "      <td>30.00</td>\n",
       "      <td>1</td>\n",
       "      <td>2</td>\n",
       "      <td>113781</td>\n",
       "      <td>151.5500</td>\n",
       "      <td>C22 C26</td>\n",
       "      <td>S</td>\n",
       "      <td>NaN</td>\n",
       "      <td>135</td>\n",
       "      <td>Montreal, PQ / Chesterville, ON</td>\n",
       "    </tr>\n",
       "    <tr>\n",
       "      <th>4</th>\n",
       "      <td>1</td>\n",
       "      <td>0</td>\n",
       "      <td>Allison, Mrs. Hudson J C (Bessie Waldo Daniels)</td>\n",
       "      <td>female</td>\n",
       "      <td>25.00</td>\n",
       "      <td>1</td>\n",
       "      <td>2</td>\n",
       "      <td>113781</td>\n",
       "      <td>151.5500</td>\n",
       "      <td>C22 C26</td>\n",
       "      <td>S</td>\n",
       "      <td>NaN</td>\n",
       "      <td>NaN</td>\n",
       "      <td>Montreal, PQ / Chesterville, ON</td>\n",
       "    </tr>\n",
       "  </tbody>\n",
       "</table>\n",
       "</div>"
      ],
      "text/plain": [
       "   pclass  survived                                             name     sex  \\\n",
       "0       1         1                    Allen, Miss. Elisabeth Walton  female   \n",
       "1       1         1                   Allison, Master. Hudson Trevor    male   \n",
       "2       1         0                     Allison, Miss. Helen Loraine  female   \n",
       "3       1         0             Allison, Mr. Hudson Joshua Creighton    male   \n",
       "4       1         0  Allison, Mrs. Hudson J C (Bessie Waldo Daniels)  female   \n",
       "\n",
       "     age  sibsp  parch  ticket      fare    cabin embarked boat  body  \\\n",
       "0  29.00      0      0   24160  211.3375       B5        S    2   NaN   \n",
       "1   0.92      1      2  113781  151.5500  C22 C26        S   11   NaN   \n",
       "2   2.00      1      2  113781  151.5500  C22 C26        S  NaN   NaN   \n",
       "3  30.00      1      2  113781  151.5500  C22 C26        S  NaN   135   \n",
       "4  25.00      1      2  113781  151.5500  C22 C26        S  NaN   NaN   \n",
       "\n",
       "                         home.dest  \n",
       "0                     St Louis, MO  \n",
       "1  Montreal, PQ / Chesterville, ON  \n",
       "2  Montreal, PQ / Chesterville, ON  \n",
       "3  Montreal, PQ / Chesterville, ON  \n",
       "4  Montreal, PQ / Chesterville, ON  "
      ]
     },
     "execution_count": 2,
     "metadata": {},
     "output_type": "execute_result"
    }
   ],
   "source": [
    "# Read titanic3.csv into a dataframe using pandas\n",
    "# titanic3.csv obtained from http://biostat.mc.vanderbilt.edu/wiki/Main/DataSets\n",
    "\n",
    "titanicData = pd.read_csv('titanic3.csv')\n",
    "titanicData.head()"
   ]
  },
  {
   "cell_type": "code",
   "execution_count": null,
   "metadata": {
    "collapsed": true
   },
   "outputs": [],
   "source": []
  },
  {
   "cell_type": "code",
   "execution_count": null,
   "metadata": {
    "collapsed": true
   },
   "outputs": [],
   "source": []
  },
  {
   "cell_type": "code",
   "execution_count": null,
   "metadata": {
    "collapsed": true
   },
   "outputs": [],
   "source": []
  },
  {
   "cell_type": "code",
   "execution_count": null,
   "metadata": {
    "collapsed": true
   },
   "outputs": [],
   "source": []
  },
  {
   "cell_type": "code",
   "execution_count": 3,
   "metadata": {
    "collapsed": false
   },
   "outputs": [
    {
     "name": "stdout",
     "output_type": "stream",
     "text": [
      "Index([u'pclass', u'survived', u'name', u'sex', u'age', u'sibsp', u'parch',\n",
      "       u'ticket', u'fare', u'cabin', u'embarked', u'boat', u'body',\n",
      "       u'home.dest'],\n",
      "      dtype='object')\n"
     ]
    }
   ],
   "source": [
    "# Print column names\n",
    "print titanicData.columns"
   ]
  },
  {
   "cell_type": "markdown",
   "metadata": {},
   "source": [
    "# Survival rates by Class"
   ]
  },
  {
   "cell_type": "code",
   "execution_count": 4,
   "metadata": {
    "collapsed": false
   },
   "outputs": [],
   "source": [
    "survived_by_class = titanicData['survived'].groupby(titanicData['pclass'])"
   ]
  },
  {
   "cell_type": "code",
   "execution_count": 5,
   "metadata": {
    "collapsed": false
   },
   "outputs": [
    {
     "data": {
      "text/plain": [
       "<matplotlib.text.Text at 0x1080a5f10>"
      ]
     },
     "execution_count": 5,
     "metadata": {},
     "output_type": "execute_result"
    },
    {
     "data": {
      "image/png": "[encoded data removed]",
      "text/plain": [
       "<matplotlib.figure.Figure at 0x10801b650>"
      ]
     },
     "metadata": {},
     "output_type": "display_data"
    }
   ],
   "source": [
    "# Make stacked bar chart with number survived and number died per class\n",
    "\n",
    "#number of passengers that survived and died by class\n",
    "nSurvived = survived_by_class.sum()\n",
    "nDied = survived_by_class.count() - nSurvived\n",
    "nTotal = survived_by_class.count()\n",
    "pSurvived = nSurvived/nTotal\n",
    "\n",
    "pltsurvived = nSurvived.plot(kind = 'bar', color = 'r', label = 'Survived')\n",
    "pltdied = nDied.plot(kind = 'bar', color = 'b', bottom= nSurvived, label = 'Died')\n",
    "plt.ylabel('Counts')\n",
    "plt.xlabel('Class')\n",
    "plt.legend(loc = 'best')\n",
    "plt.title('Survival rates by class')"
   ]
  },
  {
   "cell_type": "code",
   "execution_count": 6,
   "metadata": {
    "collapsed": false
   },
   "outputs": [
    {
     "data": {
      "text/plain": [
       "<matplotlib.text.Text at 0x10823cdd0>"
      ]
     },
     "execution_count": 6,
     "metadata": {},
     "output_type": "execute_result"
    },
    {
     "data": {
      "image/png": "[encoded data removed]",
      "text/plain": [
       "<matplotlib.figure.Figure at 0x1069b8b90>"
      ]
     },
     "metadata": {},
     "output_type": "display_data"
    }
   ],
   "source": [
    "# Bar chart with probability of survival by class\n",
    "\n",
    "plt_pSurvived = pSurvived.plot(kind = 'bar')\n",
    "plt_pSurvived.set_ylabel('Survival Probability')\n",
    "plt_pSurvived.set_title('Survival Probability by Class')"
   ]
  },
  {
   "cell_type": "markdown",
   "metadata": {},
   "source": [
    "# Survival Rates by Gender"
   ]
  },
  {
   "cell_type": "code",
   "execution_count": 7,
   "metadata": {
    "collapsed": true
   },
   "outputs": [],
   "source": [
    "survived_by_gender = titanicData['survived'].groupby(titanicData['sex'])"
   ]
  },
  {
   "cell_type": "code",
   "execution_count": 8,
   "metadata": {
    "collapsed": false
   },
   "outputs": [
    {
     "data": {
      "text/plain": [
       "<matplotlib.text.Text at 0x1083bf4d0>"
      ]
     },
     "execution_count": 8,
     "metadata": {},
     "output_type": "execute_result"
    },
    {
     "data": {
      "image/png": "[encoded data removed]",
      "text/plain": [
       "<matplotlib.figure.Figure at 0x108230110>"
      ]
     },
     "metadata": {},
     "output_type": "display_data"
    }
   ],
   "source": [
    "prob_survival_by_gender = survived_by_gender.sum()/survived_by_gender.count()\n",
    "prob_survival_by_gender.plot(kind = 'bar')\n",
    "plt.ylabel('Survival Probability')\n",
    "plt.title('Survival Rates by Gender')"
   ]
  },
  {
   "cell_type": "markdown",
   "metadata": {},
   "source": [
    "# Survival by Gender and Class"
   ]
  },
  {
   "cell_type": "code",
   "execution_count": 9,
   "metadata": {
    "collapsed": false
   },
   "outputs": [
    {
     "name": "stdout",
     "output_type": "stream",
     "text": [
      "               survived\n",
      "sex    pclass          \n",
      "female 1       0.965278\n",
      "       2       0.886792\n",
      "       3       0.490741\n",
      "male   1       0.340782\n",
      "       2       0.146199\n",
      "       3       0.152130\n"
     ]
    }
   ],
   "source": [
    "gender_class_pivtable = titanicData.pivot_table(values=[\"survived\"], index=[\"sex\",\"pclass\"], aggfunc=np.mean)\n",
    "print gender_class_pivtable"
   ]
  },
  {
   "cell_type": "code",
   "execution_count": 10,
   "metadata": {
    "collapsed": false
   },
   "outputs": [
    {
     "data": {
      "text/plain": [
       "<matplotlib.legend.Legend at 0x1082f6290>"
      ]
     },
     "execution_count": 10,
     "metadata": {},
     "output_type": "execute_result"
    },
    {
     "data": {
      "image/png": "[encoded data removed]",
      "text/plain": [
       "<matplotlib.figure.Figure at 0x1082f60d0>"
      ]
     },
     "metadata": {},
     "output_type": "display_data"
    }
   ],
   "source": [
    "gc = gender_class_pivtable.unstack(level=-1)\n",
    "sex_class_plot = gc.plot(kind='bar',stacked=False,title=\"Survival Rates by Gender and Class\")\n",
    "sex_class_plot.set_ylabel('Survival Rate')\n",
    "sex_class_plot.set_xlabel('Gender')\n",
    "sex_class_plot.legend(['First Class', 'Second Class', 'Third Class'])"
   ]
  },
  {
   "cell_type": "markdown",
   "metadata": {
    "collapsed": true
   },
   "source": [
    "Clearly, it was better to be a woman on the Titanic."
   ]
  },
  {
   "cell_type": "markdown",
   "metadata": {},
   "source": [
    "# Survival Rates by Age"
   ]
  },
  {
   "cell_type": "code",
   "execution_count": 11,
   "metadata": {
    "collapsed": false
   },
   "outputs": [
    {
     "name": "stdout",
     "output_type": "stream",
     "text": [
      "count    1046.000000\n",
      "mean       29.881138\n",
      "std        14.413493\n",
      "min         0.170000\n",
      "25%        21.000000\n",
      "50%        28.000000\n",
      "75%        39.000000\n",
      "max        80.000000\n",
      "Name: age, dtype: float64\n"
     ]
    },
    {
     "data": {
      "text/plain": [
       "<matplotlib.text.Text at 0x10882e590>"
      ]
     },
     "execution_count": 11,
     "metadata": {},
     "output_type": "execute_result"
    },
    {
     "data": {
      "image/png": "[encoded data removed]",
      "text/plain": [
       "<matplotlib.figure.Figure at 0x108613d10>"
      ]
     },
     "metadata": {},
     "output_type": "display_data"
    }
   ],
   "source": [
    "# Descriptive statistics about the ages of the passengers on board, and\n",
    "# Histogram of ages of passengers\n",
    "print titanicData.age.describe()\n",
    "plt.hist(titanicData.age, bins = 40, range = (0,80))\n",
    "plt.xlabel('Age')\n",
    "plt.ylabel('Counts')\n",
    "plt.title('Distribution of passenger ages')"
   ]
  },
  {
   "cell_type": "code",
   "execution_count": 12,
   "metadata": {
    "collapsed": false
   },
   "outputs": [
    {
     "data": {
      "text/plain": [
       "<matplotlib.text.Text at 0x108bc2f10>"
      ]
     },
     "execution_count": 12,
     "metadata": {},
     "output_type": "execute_result"
    },
    {
     "data": {
      "image/png": "[encoded data removed]",
      "text/plain": [
       "<matplotlib.figure.Figure at 0x10897b7d0>"
      ]
     },
     "metadata": {},
     "output_type": "display_data"
    }
   ],
   "source": [
    "titanicData.hist(column='age',by='survived',bins=20, sharex = True)\n",
    "plt.xlabel('Age')\n",
    "plt.ylabel('Counts')\n",
    "plt.title(\"Survived\")\n",
    "# Having trouble labeling the first subplot, which is the histogram of ages for people who died"
   ]
  },
  {
   "cell_type": "code",
   "execution_count": 13,
   "metadata": {
    "collapsed": false
   },
   "outputs": [
    {
     "name": "stdout",
     "output_type": "stream",
     "text": [
      "survived\n",
      "0    30.545363\n",
      "1    28.918244\n",
      "Name: age, dtype: float64\n"
     ]
    }
   ],
   "source": [
    "# Average ages of those who survived and died\n",
    "survived_by_age = titanicData['age'].groupby(titanicData['survived'])\n",
    "print survived_by_age.aggregate(np.mean)\n",
    "\n",
    "# We can see below that the average age of those who survived was 28.9 yrs, compared to 30.5 for those who died."
   ]
  },
  {
   "cell_type": "code",
   "execution_count": 14,
   "metadata": {
    "collapsed": false
   },
   "outputs": [],
   "source": [
    "age_bins = [0,10,20,30,40,50,60,70,80]\n",
    "binned_ages = pd.cut(titanicData['age'],age_bins)\n",
    "#pd.value_counts(binned_ages, sort=False)"
   ]
  },
  {
   "cell_type": "code",
   "execution_count": 15,
   "metadata": {
    "collapsed": false
   },
   "outputs": [
    {
     "name": "stdout",
     "output_type": "stream",
     "text": [
      "          survived                    \n",
      "pclass           1         2         3\n",
      "age                                   \n",
      "(0, 10]   0.750000  1.000000  0.416667\n",
      "(10, 20]  0.818182  0.515152  0.271028\n",
      "(20, 30]  0.698413  0.386139  0.258883\n",
      "(30, 40]  0.712121  0.400000  0.224719\n",
      "(40, 50]  0.538462  0.400000  0.135135\n",
      "(50, 60]  0.651163  0.142857  0.000000\n",
      "(60, 70]  0.235294  0.166667  0.250000\n",
      "(70, 80]  0.500000       NaN  0.000000\n"
     ]
    }
   ],
   "source": [
    "age_class_pivtable = titanicData.pivot_table(values=[\"survived\"], index=[binned_ages,\"pclass\"], aggfunc=np.mean)\n",
    "t= age_class_pivtable.unstack(level=-1)\n",
    "print t"
   ]
  },
  {
   "cell_type": "code",
   "execution_count": 16,
   "metadata": {
    "collapsed": false
   },
   "outputs": [
    {
     "data": {
      "text/plain": [
       "<matplotlib.legend.Legend at 0x108d77310>"
      ]
     },
     "execution_count": 16,
     "metadata": {},
     "output_type": "execute_result"
    },
    {
     "data": {
      "image/png": "[encoded data removed]",
      "text/plain": [
       "<matplotlib.figure.Figure at 0x1083f3a50>"
      ]
     },
     "metadata": {},
     "output_type": "display_data"
    }
   ],
   "source": [
    "age_class_plot = t.plot(kind='bar',stacked=False,title=\"Survival Rates by Age and Class\")\n",
    "age_class_plot.set_ylabel('Survival Rate')\n",
    "age_class_plot.set_xlabel('Age Range')\n",
    "age_class_plot.legend(['First Class', 'Second Class', 'Third Class'])"
   ]
  },
  {
   "cell_type": "markdown",
   "metadata": {
    "collapsed": true
   },
   "source": [
    "# Names"
   ]
  },
  {
   "cell_type": "code",
   "execution_count": 8,
   "metadata": {
    "collapsed": false
   },
   "outputs": [
    {
     "name": "stdout",
     "output_type": "stream",
     "text": [
      "0                      allen, miss. elisabeth walton\n",
      "1                     allison, master. hudson trevor\n",
      "2                       allison, miss. helen loraine\n",
      "3               allison, mr. hudson joshua creighton\n",
      "4    allison, mrs. hudson j c (bessie waldo daniels)\n",
      "Name: name, dtype: object\n"
     ]
    }
   ],
   "source": [
    "# make all names lower case\n",
    "def lower(x):\n",
    "    return x.lower()\n",
    "\n",
    "print titanicData['name'].apply(lower).head()"
   ]
  },
  {
   "cell_type": "code",
   "execution_count": 32,
   "metadata": {
    "collapsed": false
   },
   "outputs": [],
   "source": [
    "survival_by_name = titanicData['survived'].groupby(titanicData['name'].apply(lower).str.get(0))\n",
    "sbn_sum = list(survival_by_name.sum())\n",
    "sbn_count = list(survival_by_name.count())\n",
    "sbn_ratio = list(survival_by_name.sum()/survival_by_name.count())"
   ]
  },
  {
   "cell_type": "code",
   "execution_count": 30,
   "metadata": {
    "collapsed": false
   },
   "outputs": [
    {
     "data": {
      "text/plain": [
       "<matplotlib.text.Text at 0x108b859d0>"
      ]
     },
     "execution_count": 30,
     "metadata": {},
     "output_type": "execute_result"
    },
    {
     "data": {
      "image/png": "[encoded data removed]",
      "text/plain": [
       "<matplotlib.figure.Figure at 0x10913d9d0>"
      ]
     },
     "metadata": {},
     "output_type": "display_data"
    }
   ],
   "source": []
  },
  {
   "cell_type": "code",
   "execution_count": 20,
   "metadata": {
    "collapsed": false
   },
   "outputs": [
    {
     "data": {
      "text/plain": [
       "<matplotlib.text.Text at 0x1091e7c50>"
      ]
     },
     "execution_count": 20,
     "metadata": {},
     "output_type": "execute_result"
    },
    {
     "data": {
      "image/png": "[encoded data removed]",
      "text/plain": [
       "<matplotlib.figure.Figure at 0x10887b390>"
      ]
     },
     "metadata": {},
     "output_type": "display_data"
    }
   ],
   "source": [
    "name_distribution = (survival_by_name.count()/sum(survival_by_name.count()))*100\n",
    "name_distribution.plot(kind = 'bar')\n",
    "plt.ylabel('Percent of Passengers with given first letter')\n",
    "plt.xlabel('First letter of last name')\n",
    "plt.title('Distribution of first letters of last name')"
   ]
  },
  {
   "cell_type": "code",
   "execution_count": 21,
   "metadata": {
    "collapsed": false
   },
   "outputs": [
    {
     "data": {
      "text/plain": [
       "<matplotlib.text.Text at 0x10950e050>"
      ]
     },
     "execution_count": 21,
     "metadata": {},
     "output_type": "execute_result"
    },
    {
     "data": {
      "image/png": "[encoded data removed]",
      "text/plain": [
       "<matplotlib.figure.Figure at 0x108bcf490>"
      ]
     },
     "metadata": {},
     "output_type": "display_data"
    }
   ],
   "source": [
    "name_pivtable = titanicData.pivot_table(values=[\"survived\"], index=titanicData['name'].apply(lower).str.get(0))\n",
    "name_pivtable.plot(kind = 'bar', legend = False)\n",
    "plt.xlabel('First letter of last name')\n",
    "plt.ylabel('Survival rate')\n",
    "plt.title('Survival rate by first letter of last name')\n",
    "\n",
    "# it appears that, except for Q, first letter of last name is relatively uncorrelated with survival."
   ]
  },
  {
   "cell_type": "code",
   "execution_count": 34,
   "metadata": {
    "collapsed": false
   },
   "outputs": [
    {
     "data": {
      "text/plain": [
       "[-2, 140, -0.1, 1.1]"
      ]
     },
     "execution_count": 34,
     "metadata": {},
     "output_type": "execute_result"
    },
    {
     "data": {
      "image/png": "[encoded data removed]",
      "text/plain": [
       "<matplotlib.figure.Figure at 0x1093bb5d0>"
      ]
     },
     "metadata": {},
     "output_type": "display_data"
    }
   ],
   "source": [
    "# Same data, but with survival rate and name frequency in the same plot\n",
    "\n",
    "letters = map(chr, range(97, 123))\n",
    "plt.scatter(sbn_count, sbn_ratio)\n",
    "for letter, name_count, probability in zip(letters, sbn_count, sbn_ratio):\n",
    "    plt.annotate(letter,\n",
    "                xy = (name_count, probability),\n",
    "                xytext = (5, -5),\n",
    "                textcoords = 'offset points')\n",
    "plt.title(\"Survival ratio by first letter of last name frequency\")\n",
    "plt.xlabel(\"Number of passengers with name starting with given letter\")\n",
    "plt.ylabel(\"Survival ratio\")\n",
    "plt.axis([-2,140, -0.1,1.1])"
   ]
  },
  {
   "cell_type": "markdown",
   "metadata": {
    "collapsed": false
   },
   "source": [
    "# Family Relationships"
   ]
  },
  {
   "cell_type": "code",
   "execution_count": 29,
   "metadata": {
    "collapsed": false
   },
   "outputs": [
    {
     "data": {
      "text/plain": [
       "count    1309.000000\n",
       "mean        0.385027\n",
       "std         0.865560\n",
       "min         0.000000\n",
       "25%         0.000000\n",
       "50%         0.000000\n",
       "75%         0.000000\n",
       "max         9.000000\n",
       "Name: parch, dtype: float64"
      ]
     },
     "execution_count": 29,
     "metadata": {},
     "output_type": "execute_result"
    },
    {
     "data": {
      "image/png": "[encoded data removed]",
      "text/plain": [
       "<matplotlib.figure.Figure at 0x10b36a210>"
      ]
     },
     "metadata": {},
     "output_type": "display_data"
    }
   ],
   "source": [
    "# Distribution of people with parents/children aboard\n",
    "titanicData['parch'].hist()\n",
    "titanicData.parch.describe()\n",
    "# most people had no parents/children on board"
   ]
  },
  {
   "cell_type": "code",
   "execution_count": 30,
   "metadata": {
    "collapsed": false
   },
   "outputs": [
    {
     "data": {
      "text/plain": [
       "array([<matplotlib.axes._subplots.AxesSubplot object at 0x10b558850>,\n",
       "       <matplotlib.axes._subplots.AxesSubplot object at 0x10b75af10>], dtype=object)"
      ]
     },
     "execution_count": 30,
     "metadata": {},
     "output_type": "execute_result"
    },
    {
     "data": {
      "image/png": "[encoded data removed]",
      "text/plain": [
       "<matplotlib.figure.Figure at 0x10b568f50>"
      ]
     },
     "metadata": {},
     "output_type": "display_data"
    }
   ],
   "source": [
    "titanicData['parch'].hist(by=titanicData['survived'])"
   ]
  },
  {
   "cell_type": "code",
   "execution_count": 38,
   "metadata": {
    "collapsed": false
   },
   "outputs": [
    {
     "name": "stdout",
     "output_type": "stream",
     "text": [
      "       survived\n",
      "parch          \n",
      "0      0.335329\n",
      "1      0.588235\n",
      "2      0.504425\n",
      "3      0.625000\n",
      "4      0.166667\n",
      "5      0.166667\n",
      "6      0.000000\n",
      "9      0.000000\n"
     ]
    }
   ],
   "source": [
    "# Did those with parents/children aboard disproportionately survive?\n",
    "\n",
    "parch_pivtable = titanicData.pivot_table(values=[\"survived\"], index=titanicData['parch'])\n",
    "print parch_pivtable"
   ]
  },
  {
   "cell_type": "markdown",
   "metadata": {},
   "source": [
    "It seems that those with small families on board (parch value = 1-3) were more likely to survive than those with no relations, but those with larger families were less likely to survive."
   ]
  },
  {
   "cell_type": "code",
   "execution_count": null,
   "metadata": {
    "collapsed": true
   },
   "outputs": [],
   "source": []
  }
 ],
 "metadata": {
  "kernelspec": {
   "display_name": "Python 2",
   "language": "python",
   "name": "python2"
  },
  "language_info": {
   "codemirror_mode": {
    "name": "ipython",
    "version": 2
   },
   "file_extension": ".py",
   "mimetype": "text/x-python",
   "name": "python",
   "nbconvert_exporter": "python",
   "pygments_lexer": "ipython2",
   "version": "2.7.11"
  }
 },
 "nbformat": 4,
 "nbformat_minor": 0
}
